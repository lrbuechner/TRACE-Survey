{
 "cells": [
  {
   "cell_type": "markdown",
   "metadata": {},
   "source": [
    "## Collecting a representative sample of the US bond market\n",
    "\n",
    "Below I use issue size and turnover to create bins with $n$ bonds in each. We seek to develop an outlier filter that preforms in a range of different market conditions thus its important to have a "
   ]
  },
  {
   "cell_type": "markdown",
   "metadata": {},
   "source": [
    "## Importing TRACE data and defining functions"
   ]
  },
  {
   "cell_type": "code",
   "execution_count": 1,
   "metadata": {
    "ExecuteTime": {
     "end_time": "2019-09-14T04:04:07.009799Z",
     "start_time": "2019-09-14T03:55:54.521724Z"
    }
   },
   "outputs": [
    {
     "name": "stderr",
     "output_type": "stream",
     "text": [
      "C:\\Users\\Landon\\Anaconda3\\lib\\site-packages\\IPython\\core\\interactiveshell.py:3057: DtypeWarning: Columns (4,9,12,13,20,21,24) have mixed types. Specify dtype option on import or set low_memory=False.\n",
      "  interactivity=interactivity, compiler=compiler, result=result)\n",
      "C:\\Users\\Landon\\Anaconda3\\lib\\site-packages\\IPython\\core\\interactiveshell.py:3057: DtypeWarning: Columns (4,9,12,13,20) have mixed types. Specify dtype option on import or set low_memory=False.\n",
      "  interactivity=interactivity, compiler=compiler, result=result)\n"
     ]
    }
   ],
   "source": [
    "import os\n",
    "import numpy as np\n",
    "import pandas as pd\n",
    "import matplotlib.pyplot as plt\n",
    "import random\n",
    "\n",
    "data1 = pd.read_csv(os.getcwd()+'/'+'trace1.csv')\n",
    "data2 = pd.read_csv(os.getcwd()+'/'+'trace2.csv')\n",
    "\n",
    "def plot_price(df, cusip, outlier_index):\n",
    "    df.sort_values(by=['datetime'])\n",
    "    df = df[df['cusip_id'] == cusip]\n",
    "    plt.figure(figsize = (10,5))\n",
    "    plt.scatter(df['datetime'], df['rptd_pr'].astype(float), s=2, color = 'k')\n",
    "    plt.scatter(df['datetime'].loc[outlier_index], df['rptd_pr'].loc[outlier_index].astype(float), s=10, color = 'r')\n",
    "    plt.title('CUSIP: {} | Trades: {}'.format(cusip,len(df)))\n",
    "    plt.xlabel('datetime')\n",
    "    plt.ylabel('b.s price')\n",
    "    plt.show()"
   ]
  },
  {
   "cell_type": "code",
   "execution_count": 2,
   "metadata": {
    "ExecuteTime": {
     "end_time": "2019-09-14T03:55:51.642869Z",
     "start_time": "2019-09-14T03:50:50.581Z"
    }
   },
   "outputs": [],
   "source": [
    "data1['datetime'] = pd.to_datetime(data1['trd_exctn_dt'].astype(str) + ' ' + data1['trd_exctn_tm'].astype(str), errors='coerce')"
   ]
  },
  {
   "cell_type": "code",
   "execution_count": 3,
   "metadata": {
    "ExecuteTime": {
     "end_time": "2019-09-14T03:55:51.643867Z",
     "start_time": "2019-09-14T03:50:50.951Z"
    }
   },
   "outputs": [],
   "source": [
    "# making sure we have complete time series data by using bonds that are unique to data1 (error in querying resulted in 2)\n",
    "\n",
    "id1 = set(data1['cusip_id'].unique())\n",
    "id2 = set(data2['cusip_id'].unique())"
   ]
  },
  {
   "cell_type": "code",
   "execution_count": 4,
   "metadata": {
    "ExecuteTime": {
     "end_time": "2019-09-14T03:55:51.643867Z",
     "start_time": "2019-09-14T03:50:51.295Z"
    }
   },
   "outputs": [
    {
     "name": "stdout",
     "output_type": "stream",
     "text": [
      "Number of Unique ID's\n",
      "Id1: 39640\n",
      "Id2: 105\n"
     ]
    }
   ],
   "source": [
    "print(\"Number of Unique ID's\\nId1: {}\\nId2: {}\".format(len(id1),len(id2)))\n",
    "IDS = list(id1-id2)"
   ]
  },
  {
   "cell_type": "code",
   "execution_count": 5,
   "metadata": {
    "ExecuteTime": {
     "end_time": "2019-09-14T03:55:51.644864Z",
     "start_time": "2019-09-14T03:51:11.044Z"
    }
   },
   "outputs": [
    {
     "name": "stderr",
     "output_type": "stream",
     "text": [
      "C:\\Users\\Landon\\Anaconda3\\lib\\site-packages\\pandas\\plotting\\_converter.py:129: FutureWarning: Using an implicitly registered datetime converter for a matplotlib plotting method. The converter was registered by pandas on import. Future versions of pandas will require you to explicitly register matplotlib converters.\n",
      "\n",
      "To register the converters:\n",
      "\t>>> from pandas.plotting import register_matplotlib_converters\n",
      "\t>>> register_matplotlib_converters()\n",
      "  warnings.warn(msg, FutureWarning)\n"
     ]
    },
    {
     "data": {
      "image/png": "[encoded data removed]",
      "text/plain": [
       "<Figure size 720x360 with 1 Axes>"
      ]
     },
     "metadata": {
      "needs_background": "light"
     },
     "output_type": "display_data"
    }
   ],
   "source": [
    "# Previewing a random bond\n",
    "\n",
    "test_id = IDS[23]\n",
    "bond1 = data1[data1['cusip_id'] == test_id]\n",
    "plot_price(bond1, test_id, [])"
   ]
  },
  {
   "cell_type": "code",
   "execution_count": 6,
   "metadata": {
    "ExecuteTime": {
     "end_time": "2019-09-14T03:55:51.692144Z",
     "start_time": "2019-09-14T03:51:14.661Z"
    }
   },
   "outputs": [],
   "source": [
    "def subset_CUSIPS(data, threshold, num_bonds):\n",
    "    \n",
    "    ids = data['bond_sym_id'].unique()\n",
    "    prev_indicies = set()\n",
    "    subset_ids = []\n",
    "    \n",
    "    while len(subset_ids) != num_bonds:\n",
    "        ID = rand.randint(0,len(ids)-1)\n",
    "        if ID not in prev_indicies:\n",
    "            bond = data[data['bond_sym_id'] == ids[ID]]\n",
    "            t0 = bond['datetime'].min() ; t1 = bond['datetime'].max()\n",
    "            elapsed_time = (t1-t0).days\n",
    "            if elapsed_time == 0:\n",
    "                pass\n",
    "            else:\n",
    "                frequency = len(bond)/elapsed_time \n",
    "                if frequency > threshold:\n",
    "                    subset_ids.append(ids[ID])  \n",
    "                    prev_indicies.add(ID)\n",
    "    return subset_ids"
   ]
  },
  {
   "cell_type": "markdown",
   "metadata": {},
   "source": [
    "## Calculating Issue Size"
   ]
  },
  {
   "cell_type": "code",
   "execution_count": 7,
   "metadata": {
    "ExecuteTime": {
     "end_time": "2019-09-14T03:55:51.740090Z",
     "start_time": "2019-09-14T03:51:18.121Z"
    }
   },
   "outputs": [
    {
     "name": "stderr",
     "output_type": "stream",
     "text": [
      "C:\\Users\\Landon\\Anaconda3\\lib\\site-packages\\IPython\\core\\interactiveshell.py:3057: DtypeWarning: Columns (8,27,42,63,64) have mixed types. Specify dtype option on import or set low_memory=False.\n",
      "  interactivity=interactivity, compiler=compiler, result=result)\n"
     ]
    }
   ],
   "source": [
    "rating = pd.read_csv(os.getcwd()+'/'+'bond_data.csv')\n",
    "rating['cusip_id'] = rating['issuer_cusip'] + rating['issue_cusip']\n",
    "rating = rating[(rating['cusip_id']).isin(IDS)]"
   ]
  },
  {
   "cell_type": "code",
   "execution_count": 8,
   "metadata": {
    "ExecuteTime": {
     "end_time": "2019-09-14T03:55:51.742085Z",
     "start_time": "2019-09-14T03:51:18.476Z"
    }
   },
   "outputs": [
    {
     "data": {
      "text/html": [
       "<div>\n",
       "<style scoped>\n",
       "    .dataframe tbody tr th:only-of-type {\n",
       "        vertical-align: middle;\n",
       "    }\n",
       "\n",
       "    .dataframe tbody tr th {\n",
       "        vertical-align: top;\n",
       "    }\n",
       "\n",
       "    .dataframe thead th {\n",
       "        text-align: right;\n",
       "    }\n",
       "</style>\n",
       "<table border=\"1\" class=\"dataframe\">\n",
       "  <thead>\n",
       "    <tr style=\"text-align: right;\">\n",
       "      <th></th>\n",
       "      <th>cusip_id</th>\n",
       "      <th>offering_date</th>\n",
       "      <th>offering_amt</th>\n",
       "      <th>offering_price</th>\n",
       "      <th>maturity</th>\n",
       "      <th>issue_size</th>\n",
       "    </tr>\n",
       "  </thead>\n",
       "  <tbody>\n",
       "    <tr>\n",
       "      <th>157669</th>\n",
       "      <td>92343VBT0</td>\n",
       "      <td>11SEP13</td>\n",
       "      <td>15000000.0</td>\n",
       "      <td>99.883</td>\n",
       "      <td>15SEP43</td>\n",
       "      <td>1.498245e+09</td>\n",
       "    </tr>\n",
       "    <tr>\n",
       "      <th>169235</th>\n",
       "      <td>035242AP1</td>\n",
       "      <td>13JAN16</td>\n",
       "      <td>11000000.0</td>\n",
       "      <td>99.833</td>\n",
       "      <td>01FEB26</td>\n",
       "      <td>1.098163e+09</td>\n",
       "    </tr>\n",
       "    <tr>\n",
       "      <th>169236</th>\n",
       "      <td>035242AN6</td>\n",
       "      <td>13JAN16</td>\n",
       "      <td>11000000.0</td>\n",
       "      <td>99.765</td>\n",
       "      <td>01FEB46</td>\n",
       "      <td>1.097415e+09</td>\n",
       "    </tr>\n",
       "  </tbody>\n",
       "</table>\n",
       "</div>"
      ],
      "text/plain": [
       "         cusip_id offering_date  offering_amt  offering_price maturity  \\\n",
       "157669  92343VBT0       11SEP13    15000000.0          99.883  15SEP43   \n",
       "169235  035242AP1       13JAN16    11000000.0          99.833  01FEB26   \n",
       "169236  035242AN6       13JAN16    11000000.0          99.765  01FEB46   \n",
       "\n",
       "          issue_size  \n",
       "157669  1.498245e+09  \n",
       "169235  1.098163e+09  \n",
       "169236  1.097415e+09  "
      ]
     },
     "execution_count": 8,
     "metadata": {},
     "output_type": "execute_result"
    }
   ],
   "source": [
    "# Calculating Issue Size \n",
    "rating['issue_size'] = rating['offering_amt']*rating['offering_price']\n",
    "\n",
    "# Dropping rows with Nan values\n",
    "rating.dropna(subset=['issue_size'])\n",
    "\n",
    "# Subsetting the data, and sorting based on issue size\n",
    "rating = rating[\n",
    "    ['cusip_id','offering_date', 'offering_amt', \n",
    "     'offering_price', 'maturity', 'issue_size']].sort_values('issue_size', ascending = False)\n",
    "\n",
    "rating.head(3)"
   ]
  },
  {
   "cell_type": "code",
   "execution_count": 9,
   "metadata": {
    "ExecuteTime": {
     "end_time": "2019-09-14T03:55:51.744080Z",
     "start_time": "2019-09-14T03:51:20.013Z"
    }
   },
   "outputs": [
    {
     "name": "stdout",
     "output_type": "stream",
     "text": [
      "data1 has the same cusips as rating... True\n"
     ]
    }
   ],
   "source": [
    "# testing if rating and data1 map 1-1\n",
    "\n",
    "print('data1 has the same cusips as rating... {}'.format(set(IDS) == set(rating['cusip_id'].unique())))"
   ]
  },
  {
   "cell_type": "code",
   "execution_count": 10,
   "metadata": {
    "ExecuteTime": {
     "end_time": "2019-09-14T03:55:51.745077Z",
     "start_time": "2019-09-14T03:51:26.129Z"
    }
   },
   "outputs": [
    {
     "name": "stderr",
     "output_type": "stream",
     "text": [
      "C:\\Users\\Landon\\Anaconda3\\lib\\site-packages\\numpy\\lib\\histograms.py:824: RuntimeWarning: invalid value encountered in greater_equal\n",
      "  keep = (tmp_a >= first_edge)\n",
      "C:\\Users\\Landon\\Anaconda3\\lib\\site-packages\\numpy\\lib\\histograms.py:825: RuntimeWarning: invalid value encountered in less_equal\n",
      "  keep &= (tmp_a <= last_edge)\n"
     ]
    },
    {
     "data": {
      "image/png": "[encoded data removed]",
      "text/plain": [
       "<Figure size 720x360 with 1 Axes>"
      ]
     },
     "metadata": {
      "needs_background": "light"
     },
     "output_type": "display_data"
    }
   ],
   "source": [
    "# Plotting distribution (Trimming upper x-axis bound for visualization)\n",
    "\n",
    "plt.figure(figsize = (10,5))\n",
    "plt.hist(rating['issue_size'], bins = 10000, color = 'k')\n",
    "plt.xlabel('$')\n",
    "plt.xlim([0,.8e8])\n",
    "plt.title('Trace Issue Size')\n",
    "plt.show()"
   ]
  },
  {
   "cell_type": "code",
   "execution_count": 11,
   "metadata": {
    "ExecuteTime": {
     "end_time": "2019-09-14T03:55:51.745077Z",
     "start_time": "2019-09-14T03:51:28.787Z"
    }
   },
   "outputs": [
    {
     "name": "stdout",
     "output_type": "stream",
     "text": [
      "0.2    3.902000e+05\n",
      "0.4    1.483860e+06\n",
      "0.6    1.500000e+07\n",
      "0.8    4.957960e+07\n",
      "1.0    1.498245e+09\n",
      "Name: issue_size, dtype: float64\n"
     ]
    }
   ],
   "source": [
    "quantiles = rating['issue_size'].quantile([i/5 for i in range(1,6)])\n",
    "print(quantiles)"
   ]
  },
  {
   "cell_type": "code",
   "execution_count": 12,
   "metadata": {
    "ExecuteTime": {
     "end_time": "2019-09-14T03:55:51.746075Z",
     "start_time": "2019-09-14T03:51:30.345Z"
    }
   },
   "outputs": [
    {
     "data": {
      "image/png": "[encoded data removed]",
      "text/plain": [
       "<Figure size 720x360 with 1 Axes>"
      ]
     },
     "metadata": {
      "needs_background": "light"
     },
     "output_type": "display_data"
    }
   ],
   "source": [
    "largest_issuance = rating[rating['issue_size'] == rating['issue_size'].max()]\n",
    "large_id = largest_issuance['cusip_id'].iloc[0]\n",
    "\n",
    "bond2 = data1[data1['cusip_id'] == large_id]\n",
    "plot_price(bond2, large_id, [])"
   ]
  },
  {
   "cell_type": "markdown",
   "metadata": {},
   "source": [
    "## Calculating Turnover "
   ]
  },
  {
   "cell_type": "code",
   "execution_count": 13,
   "metadata": {
    "ExecuteTime": {
     "end_time": "2019-09-14T03:55:51.747072Z",
     "start_time": "2019-09-14T03:51:35.201Z"
    }
   },
   "outputs": [
    {
     "data": {
      "text/html": [
       "<div>\n",
       "<style scoped>\n",
       "    .dataframe tbody tr th:only-of-type {\n",
       "        vertical-align: middle;\n",
       "    }\n",
       "\n",
       "    .dataframe tbody tr th {\n",
       "        vertical-align: top;\n",
       "    }\n",
       "\n",
       "    .dataframe thead th {\n",
       "        text-align: right;\n",
       "    }\n",
       "</style>\n",
       "<table border=\"1\" class=\"dataframe\">\n",
       "  <thead>\n",
       "    <tr style=\"text-align: right;\">\n",
       "      <th></th>\n",
       "      <th>cusip_id</th>\n",
       "      <th>company_symbol</th>\n",
       "      <th>trd_exctn_dt</th>\n",
       "      <th>trd_exctn_tm</th>\n",
       "      <th>scrty_type_cd</th>\n",
       "      <th>wis_fl</th>\n",
       "      <th>cmsn_trd</th>\n",
       "      <th>entrd_vol_qt</th>\n",
       "      <th>rptd_pr</th>\n",
       "      <th>yld_sign_cd</th>\n",
       "      <th>...</th>\n",
       "      <th>sell_cpcty_cd</th>\n",
       "      <th>cntra_mp_id</th>\n",
       "      <th>agu_qsr_id</th>\n",
       "      <th>spcl_trd_fl</th>\n",
       "      <th>trdg_mkt_cd</th>\n",
       "      <th>dissem_fl</th>\n",
       "      <th>SUB_PRDCT</th>\n",
       "      <th>STLMNT_DT</th>\n",
       "      <th>first_trd_ctrl_nb</th>\n",
       "      <th>datetime</th>\n",
       "    </tr>\n",
       "  </thead>\n",
       "  <tbody>\n",
       "    <tr>\n",
       "      <th>0</th>\n",
       "      <td>842400DX8</td>\n",
       "      <td>SCEP</td>\n",
       "      <td>20020805</td>\n",
       "      <td>17:16:40</td>\n",
       "      <td>C</td>\n",
       "      <td>N</td>\n",
       "      <td>N</td>\n",
       "      <td>20000.0</td>\n",
       "      <td>80.000</td>\n",
       "      <td>+</td>\n",
       "      <td>...</td>\n",
       "      <td>P</td>\n",
       "      <td>D</td>\n",
       "      <td>NaN</td>\n",
       "      <td>NaN</td>\n",
       "      <td>S1</td>\n",
       "      <td>N</td>\n",
       "      <td>NaN</td>\n",
       "      <td>NaN</td>\n",
       "      <td>NaN</td>\n",
       "      <td>2002-08-05 17:16:40</td>\n",
       "    </tr>\n",
       "    <tr>\n",
       "      <th>1</th>\n",
       "      <td>842400DX8</td>\n",
       "      <td>SCEP</td>\n",
       "      <td>20020805</td>\n",
       "      <td>17:16:40</td>\n",
       "      <td>C</td>\n",
       "      <td>N</td>\n",
       "      <td>N</td>\n",
       "      <td>20000.0</td>\n",
       "      <td>80.000</td>\n",
       "      <td>+</td>\n",
       "      <td>...</td>\n",
       "      <td>P</td>\n",
       "      <td>D</td>\n",
       "      <td>NaN</td>\n",
       "      <td>NaN</td>\n",
       "      <td>S1</td>\n",
       "      <td>N</td>\n",
       "      <td>NaN</td>\n",
       "      <td>NaN</td>\n",
       "      <td>NaN</td>\n",
       "      <td>2002-08-05 17:16:40</td>\n",
       "    </tr>\n",
       "    <tr>\n",
       "      <th>2</th>\n",
       "      <td>92929QAA5</td>\n",
       "      <td>WMI</td>\n",
       "      <td>20020912</td>\n",
       "      <td>7:40:45</td>\n",
       "      <td>C</td>\n",
       "      <td>N</td>\n",
       "      <td>N</td>\n",
       "      <td>15000.0</td>\n",
       "      <td>101.583</td>\n",
       "      <td>+</td>\n",
       "      <td>...</td>\n",
       "      <td>P</td>\n",
       "      <td>C</td>\n",
       "      <td>NaN</td>\n",
       "      <td>NaN</td>\n",
       "      <td>S1</td>\n",
       "      <td>N</td>\n",
       "      <td>NaN</td>\n",
       "      <td>NaN</td>\n",
       "      <td>NaN</td>\n",
       "      <td>2002-09-12 07:40:45</td>\n",
       "    </tr>\n",
       "  </tbody>\n",
       "</table>\n",
       "<p>3 rows × 28 columns</p>\n",
       "</div>"
      ],
      "text/plain": [
       "    cusip_id company_symbol  trd_exctn_dt trd_exctn_tm scrty_type_cd wis_fl  \\\n",
       "0  842400DX8           SCEP      20020805     17:16:40             C      N   \n",
       "1  842400DX8           SCEP      20020805     17:16:40             C      N   \n",
       "2  92929QAA5            WMI      20020912      7:40:45             C      N   \n",
       "\n",
       "  cmsn_trd  entrd_vol_qt  rptd_pr yld_sign_cd  ...  sell_cpcty_cd  \\\n",
       "0        N       20000.0   80.000           +  ...              P   \n",
       "1        N       20000.0   80.000           +  ...              P   \n",
       "2        N       15000.0  101.583           +  ...              P   \n",
       "\n",
       "   cntra_mp_id agu_qsr_id spcl_trd_fl trdg_mkt_cd  dissem_fl SUB_PRDCT  \\\n",
       "0            D        NaN         NaN          S1          N       NaN   \n",
       "1            D        NaN         NaN          S1          N       NaN   \n",
       "2            C        NaN         NaN          S1          N       NaN   \n",
       "\n",
       "   STLMNT_DT first_trd_ctrl_nb            datetime  \n",
       "0        NaN               NaN 2002-08-05 17:16:40  \n",
       "1        NaN               NaN 2002-08-05 17:16:40  \n",
       "2        NaN               NaN 2002-09-12 07:40:45  \n",
       "\n",
       "[3 rows x 28 columns]"
      ]
     },
     "execution_count": 13,
     "metadata": {},
     "output_type": "execute_result"
    }
   ],
   "source": [
    "# Quantify turn over with zero trading day percentage = days traded / tot. trading days\n",
    "data1.head(3)"
   ]
  },
  {
   "cell_type": "code",
   "execution_count": 14,
   "metadata": {
    "ExecuteTime": {
     "end_time": "2019-09-14T03:55:51.748069Z",
     "start_time": "2019-09-14T03:51:36.025Z"
    }
   },
   "outputs": [
    {
     "name": "stdout",
     "output_type": "stream",
     "text": [
      "Actual Trading Days:  251\n",
      "Total Trading Days:  1075\n",
      "Bond1 turnover = 0.2335\n"
     ]
    }
   ],
   "source": [
    "# unique trading years\n",
    "trding_days = pd.Series((data1['trd_exctn_dt']).unique())\n",
    "\n",
    "# testing for 'bond1'\n",
    "t0 = bond1['trd_exctn_dt'].min()\n",
    "t1 = bond1['trd_exctn_dt'].max()\n",
    "\n",
    "actual_days = bond1['trd_exctn_dt'].unique()\n",
    "tot_days = trding_days[(trding_days >= t0) & (trding_days <= t1)]\n",
    "\n",
    "print('Actual Trading Days: ', len(actual_days))\n",
    "print('Total Trading Days: ', len(tot_days))\n",
    "print(\"Bond1 turnover = {}\".format(round(len(actual_days)/len(tot_days), 4)))"
   ]
  },
  {
   "cell_type": "code",
   "execution_count": 15,
   "metadata": {
    "ExecuteTime": {
     "end_time": "2019-09-14T03:55:51.750064Z",
     "start_time": "2019-09-14T03:51:37.469Z"
    }
   },
   "outputs": [],
   "source": [
    "def calculate_turnover(bond):\n",
    "        actual_days = bond['trd_exctn_dt'].unique()\n",
    "        t0 = actual_days.min()\n",
    "        t1 = actual_days.max()\n",
    "        \n",
    "        tot_days = trding_days[(trding_days >= t0) & (trding_days <= t1)]\n",
    "        turnover = len(actual_days)/len(tot_days)\n",
    "        return turnover"
   ]
  },
  {
   "cell_type": "markdown",
   "metadata": {},
   "source": [
    "## Generating Test Data"
   ]
  },
  {
   "cell_type": "code",
   "execution_count": 16,
   "metadata": {
    "ExecuteTime": {
     "end_time": "2019-09-14T03:55:51.752058Z",
     "start_time": "2019-09-14T03:51:39.058Z"
    }
   },
   "outputs": [],
   "source": [
    "class TRACE_data(object):\n",
    "    def __init__(self, bond_data, rating_data):\n",
    "        self.bond_data = bond_data\n",
    "        self.rating_data = rating_data\n",
    "        self.trading_days = pd.Series((bond_data['trd_exctn_dt']).unique())\n",
    "        self.IDS = bond_data['cusip_id'].unique()\n",
    "        self.buckets = self.create_buckets()\n",
    "        \n",
    "    def create_buckets(self):\n",
    "        issue = self.rating_data['issue_size'].quantile([i/5 for i in range(1,6)]).tolist()\n",
    "        turn = [i/5 for i in range(1,6)]\n",
    "        buckets = {(issue[i],issue[i+1],turn[j],turn[j+1]):[] for i in range(1,5-1) for j in range(1,5-1)}\n",
    "        return buckets\n",
    "    \n",
    "    def calculate_turnover(self, bond):\n",
    "        actual_days = bond['trd_exctn_dt'].unique()\n",
    "        t0 = actual_days.min()\n",
    "        t1 = actual_days.max()\n",
    "        \n",
    "        # calculating ratio of the days a bond was traded over total actual trading days\n",
    "        tot_days = self.trading_days[(self.trading_days >= t0) & (self.trading_days <= t1)]\n",
    "        turnover = len(actual_days)/len(tot_days)\n",
    "        return turnover\n",
    "                \n",
    "    def fill_buckets1(self, n):\n",
    "        \n",
    "        dict_size =  {(i[0],i[1]):[] for i in self.buckets}\n",
    "        dict_turnover = {(i[2],i[3]):[] for i in self.buckets}\n",
    "        \n",
    "        for key in dict_size:\n",
    "            \n",
    "            subset = self.rating_data[(self.rating_data['issue_size'] >= key[0]) & (self.rating_data['issue_size'] < key[1])]\n",
    "            unique_ids = subset['cusip_id'].unique()\n",
    "            \n",
    "            while len(set(dict_size[key])) < n:\n",
    "                random_id = unique_ids[random.randint(0,len(unique_ids)-1)]\n",
    "                dict_size[key].append(random_id)\n",
    "                \n",
    "        bucket_count = len(dict_turnover)\n",
    "        while sum([len(i) for i in dict_turnover.values()]) < n*bucket_count:\n",
    "            \n",
    "            random_id = self.IDS[random.randint(0,len(self.IDS)-1)]\n",
    "            bond = self.bond_data[self.bond_data['cusip_id'] == random_id]\n",
    "            turnover = calculate_turnover(bond)\n",
    "            \n",
    "            if turnover != np.nan:\n",
    "                for key in dict_turnover:\n",
    "                    if (len(dict_turnover[key]) < n) and (turnover >= key[0] and turnover < key[1]):\n",
    "                        dict_turnover[key].append(random_id)   \n",
    "        return dict_size, dict_turnover"
   ]
  },
  {
   "cell_type": "code",
   "execution_count": 17,
   "metadata": {},
   "outputs": [],
   "source": [
    "survey_data = TRACE_data(data1, rating).fill_buckets1(20)"
   ]
  },
  {
   "cell_type": "code",
   "execution_count": 18,
   "metadata": {},
   "outputs": [],
   "source": [
    "a = list(survey_data[0].values())\n",
    "b = list(survey_data[1].values())\n",
    "my_ids = [i for _ in a for i in _]+[i for _ in b for i in _]"
   ]
  },
  {
   "cell_type": "code",
   "execution_count": 22,
   "metadata": {},
   "outputs": [
    {
     "data": {
      "image/png": "[encoded data removed]",
      "text/plain": [
       "<Figure size 720x360 with 1 Axes>"
      ]
     },
     "metadata": {
      "needs_background": "light"
     },
     "output_type": "display_data"
    },
    {
     "data": {
      "image/png": "[encoded data removed]",
      "text/plain": [
       "<Figure size 720x360 with 1 Axes>"
      ]
     },
     "metadata": {
      "needs_background": "light"
     },
     "output_type": "display_data"
    }
   ],
   "source": [
    "for ID in range(2):\n",
    "    bond = data1.loc[data1['cusip_id'] == my_ids[ID]]\n",
    "    plot_price(bond, my_ids[ID], [])"
   ]
  },
  {
   "cell_type": "code",
   "execution_count": 111,
   "metadata": {},
   "outputs": [],
   "source": [
    "test_data = data1[(data1['cusip_id']).isin(my_ids)][['cusip_id', 'rptd_pr', 'entrd_vol_qt', 'rpt_side_cd', 'datetime']]\n",
    "test_data['index'] = [i for i in range(len(test_data))]"
   ]
  },
  {
   "cell_type": "code",
   "execution_count": 20,
   "metadata": {},
   "outputs": [],
   "source": [
    "#test_data.to_csv('test_data.csv', encoding='utf-8', index=False)"
   ]
  },
  {
   "cell_type": "code",
   "execution_count": null,
   "metadata": {},
   "outputs": [],
   "source": []
  }
 ],
 "metadata": {
  "kernelspec": {
   "display_name": "Python 3",
   "language": "python",
   "name": "python3"
  },
  "language_info": {
   "codemirror_mode": {
    "name": "ipython",
    "version": 3
   },
   "file_extension": ".py",
   "mimetype": "text/x-python",
   "name": "python",
   "nbconvert_exporter": "python",
   "pygments_lexer": "ipython3",
   "version": "3.7.3"
  }
 },
 "nbformat": 4,
 "nbformat_minor": 4
}
